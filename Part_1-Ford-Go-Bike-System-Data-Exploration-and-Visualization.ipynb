{
 "cells": [
  {
   "cell_type": "markdown",
   "id": "89935258",
   "metadata": {},
   "source": [
    "# Part I - Ford Go-Bike System Data Exploration And Visualization\n",
    "\n",
    "## Introduction\n",
    "> This analysis explores a dataset containing information regarding bike usage in Francisco Bay Ford GoBike sharing system.  \n",
    "\n",
    "\n",
    "## Preliminary Wrangling\n"
   ]
  },
  {
   "cell_type": "code",
   "execution_count": 1,
   "id": "6c876ac7",
   "metadata": {
    "ExecuteTime": {
     "end_time": "2022-11-12T10:11:09.113113Z",
     "start_time": "2022-11-12T10:10:29.861697Z"
    }
   },
   "outputs": [],
   "source": [
    "# import all packages and set plots to be embedded inline\n",
    "import numpy as np\n",
    "import pandas as pd\n",
    "import matplotlib.pyplot as plt\n",
    "import seaborn as sb\n",
    "import warnings\n",
    "warnings.filterwarnings(\"ignore\")\n",
    "\n",
    "%matplotlib inline"
   ]
  },
  {
   "cell_type": "code",
   "execution_count": 2,
   "id": "f0dd43bd",
   "metadata": {
    "ExecuteTime": {
     "end_time": "2022-11-12T11:40:42.164003Z",
     "start_time": "2022-11-12T11:40:40.645435Z"
    }
   },
   "outputs": [],
   "source": [
    "# load in the dataset into a pandas dataframe\n",
    "df_0 = pd.read_csv(\"201902-fordgobike-tripdata.csv\")"
   ]
  },
  {
   "cell_type": "code",
   "execution_count": 3,
   "id": "bf4b6bf8",
   "metadata": {
    "ExecuteTime": {
     "end_time": "2022-11-12T11:40:52.350036Z",
     "start_time": "2022-11-12T11:40:51.923922Z"
    }
   },
   "outputs": [
    {
     "data": {
      "text/html": [
       "<div>\n",
       "<style scoped>\n",
       "    .dataframe tbody tr th:only-of-type {\n",
       "        vertical-align: middle;\n",
       "    }\n",
       "\n",
       "    .dataframe tbody tr th {\n",
       "        vertical-align: top;\n",
       "    }\n",
       "\n",
       "    .dataframe thead th {\n",
       "        text-align: right;\n",
       "    }\n",
       "</style>\n",
       "<table border=\"1\" class=\"dataframe\">\n",
       "  <thead>\n",
       "    <tr style=\"text-align: right;\">\n",
       "      <th></th>\n",
       "      <th>duration_sec</th>\n",
       "      <th>start_time</th>\n",
       "      <th>end_time</th>\n",
       "      <th>start_station_id</th>\n",
       "      <th>start_station_name</th>\n",
       "      <th>start_station_latitude</th>\n",
       "      <th>start_station_longitude</th>\n",
       "      <th>end_station_id</th>\n",
       "      <th>end_station_name</th>\n",
       "      <th>end_station_latitude</th>\n",
       "      <th>end_station_longitude</th>\n",
       "      <th>bike_id</th>\n",
       "      <th>user_type</th>\n",
       "      <th>member_birth_year</th>\n",
       "      <th>member_gender</th>\n",
       "      <th>bike_share_for_all_trip</th>\n",
       "    </tr>\n",
       "  </thead>\n",
       "  <tbody>\n",
       "    <tr>\n",
       "      <th>0</th>\n",
       "      <td>52185</td>\n",
       "      <td>2019-02-28 17:32:10.1450</td>\n",
       "      <td>2019-03-01 08:01:55.9750</td>\n",
       "      <td>21.0</td>\n",
       "      <td>Montgomery St BART Station (Market St at 2nd St)</td>\n",
       "      <td>37.789625</td>\n",
       "      <td>-122.400811</td>\n",
       "      <td>13.0</td>\n",
       "      <td>Commercial St at Montgomery St</td>\n",
       "      <td>37.794231</td>\n",
       "      <td>-122.402923</td>\n",
       "      <td>4902</td>\n",
       "      <td>Customer</td>\n",
       "      <td>1984.0</td>\n",
       "      <td>Male</td>\n",
       "      <td>No</td>\n",
       "    </tr>\n",
       "    <tr>\n",
       "      <th>1</th>\n",
       "      <td>42521</td>\n",
       "      <td>2019-02-28 18:53:21.7890</td>\n",
       "      <td>2019-03-01 06:42:03.0560</td>\n",
       "      <td>23.0</td>\n",
       "      <td>The Embarcadero at Steuart St</td>\n",
       "      <td>37.791464</td>\n",
       "      <td>-122.391034</td>\n",
       "      <td>81.0</td>\n",
       "      <td>Berry St at 4th St</td>\n",
       "      <td>37.775880</td>\n",
       "      <td>-122.393170</td>\n",
       "      <td>2535</td>\n",
       "      <td>Customer</td>\n",
       "      <td>NaN</td>\n",
       "      <td>NaN</td>\n",
       "      <td>No</td>\n",
       "    </tr>\n",
       "    <tr>\n",
       "      <th>2</th>\n",
       "      <td>61854</td>\n",
       "      <td>2019-02-28 12:13:13.2180</td>\n",
       "      <td>2019-03-01 05:24:08.1460</td>\n",
       "      <td>86.0</td>\n",
       "      <td>Market St at Dolores St</td>\n",
       "      <td>37.769305</td>\n",
       "      <td>-122.426826</td>\n",
       "      <td>3.0</td>\n",
       "      <td>Powell St BART Station (Market St at 4th St)</td>\n",
       "      <td>37.786375</td>\n",
       "      <td>-122.404904</td>\n",
       "      <td>5905</td>\n",
       "      <td>Customer</td>\n",
       "      <td>1972.0</td>\n",
       "      <td>Male</td>\n",
       "      <td>No</td>\n",
       "    </tr>\n",
       "    <tr>\n",
       "      <th>3</th>\n",
       "      <td>36490</td>\n",
       "      <td>2019-02-28 17:54:26.0100</td>\n",
       "      <td>2019-03-01 04:02:36.8420</td>\n",
       "      <td>375.0</td>\n",
       "      <td>Grove St at Masonic Ave</td>\n",
       "      <td>37.774836</td>\n",
       "      <td>-122.446546</td>\n",
       "      <td>70.0</td>\n",
       "      <td>Central Ave at Fell St</td>\n",
       "      <td>37.773311</td>\n",
       "      <td>-122.444293</td>\n",
       "      <td>6638</td>\n",
       "      <td>Subscriber</td>\n",
       "      <td>1989.0</td>\n",
       "      <td>Other</td>\n",
       "      <td>No</td>\n",
       "    </tr>\n",
       "    <tr>\n",
       "      <th>4</th>\n",
       "      <td>1585</td>\n",
       "      <td>2019-02-28 23:54:18.5490</td>\n",
       "      <td>2019-03-01 00:20:44.0740</td>\n",
       "      <td>7.0</td>\n",
       "      <td>Frank H Ogawa Plaza</td>\n",
       "      <td>37.804562</td>\n",
       "      <td>-122.271738</td>\n",
       "      <td>222.0</td>\n",
       "      <td>10th Ave at E 15th St</td>\n",
       "      <td>37.792714</td>\n",
       "      <td>-122.248780</td>\n",
       "      <td>4898</td>\n",
       "      <td>Subscriber</td>\n",
       "      <td>1974.0</td>\n",
       "      <td>Male</td>\n",
       "      <td>Yes</td>\n",
       "    </tr>\n",
       "  </tbody>\n",
       "</table>\n",
       "</div>"
      ],
      "text/plain": [
       "   duration_sec                start_time                  end_time  \\\n",
       "0         52185  2019-02-28 17:32:10.1450  2019-03-01 08:01:55.9750   \n",
       "1         42521  2019-02-28 18:53:21.7890  2019-03-01 06:42:03.0560   \n",
       "2         61854  2019-02-28 12:13:13.2180  2019-03-01 05:24:08.1460   \n",
       "3         36490  2019-02-28 17:54:26.0100  2019-03-01 04:02:36.8420   \n",
       "4          1585  2019-02-28 23:54:18.5490  2019-03-01 00:20:44.0740   \n",
       "\n",
       "   start_station_id                                start_station_name  \\\n",
       "0              21.0  Montgomery St BART Station (Market St at 2nd St)   \n",
       "1              23.0                     The Embarcadero at Steuart St   \n",
       "2              86.0                           Market St at Dolores St   \n",
       "3             375.0                           Grove St at Masonic Ave   \n",
       "4               7.0                               Frank H Ogawa Plaza   \n",
       "\n",
       "   start_station_latitude  start_station_longitude  end_station_id  \\\n",
       "0               37.789625              -122.400811            13.0   \n",
       "1               37.791464              -122.391034            81.0   \n",
       "2               37.769305              -122.426826             3.0   \n",
       "3               37.774836              -122.446546            70.0   \n",
       "4               37.804562              -122.271738           222.0   \n",
       "\n",
       "                               end_station_name  end_station_latitude  \\\n",
       "0                Commercial St at Montgomery St             37.794231   \n",
       "1                            Berry St at 4th St             37.775880   \n",
       "2  Powell St BART Station (Market St at 4th St)             37.786375   \n",
       "3                        Central Ave at Fell St             37.773311   \n",
       "4                         10th Ave at E 15th St             37.792714   \n",
       "\n",
       "   end_station_longitude  bike_id   user_type  member_birth_year  \\\n",
       "0            -122.402923     4902    Customer             1984.0   \n",
       "1            -122.393170     2535    Customer                NaN   \n",
       "2            -122.404904     5905    Customer             1972.0   \n",
       "3            -122.444293     6638  Subscriber             1989.0   \n",
       "4            -122.248780     4898  Subscriber             1974.0   \n",
       "\n",
       "  member_gender bike_share_for_all_trip  \n",
       "0          Male                      No  \n",
       "1           NaN                      No  \n",
       "2          Male                      No  \n",
       "3         Other                      No  \n",
       "4          Male                     Yes  "
      ]
     },
     "execution_count": 3,
     "metadata": {},
     "output_type": "execute_result"
    }
   ],
   "source": [
    "# Make a copy of the dataset to avoid reloading it when it becomes neccesary \n",
    "df = df_0.copy()\n",
    "df.head()"
   ]
  },
  {
   "cell_type": "code",
   "execution_count": 4,
   "id": "380dc8e0",
   "metadata": {
    "ExecuteTime": {
     "end_time": "2022-11-12T11:41:12.602262Z",
     "start_time": "2022-11-12T11:41:12.570266Z"
    }
   },
   "outputs": [
    {
     "data": {
      "text/plain": [
       "(183412, 16)"
      ]
     },
     "execution_count": 4,
     "metadata": {},
     "output_type": "execute_result"
    }
   ],
   "source": [
    "# overview of data shape and composition\n",
    "df.shape"
   ]
  },
  {
   "cell_type": "code",
   "execution_count": 5,
   "id": "1ed122f7",
   "metadata": {
    "ExecuteTime": {
     "end_time": "2022-11-12T11:41:29.457513Z",
     "start_time": "2022-11-12T11:41:28.533591Z"
    }
   },
   "outputs": [],
   "source": [
    "# changing data type of start_time and end_time to datetime.\n",
    "df.start_time = pd.to_datetime(df.start_time)\n",
    "df.end_time = pd.to_datetime(df.end_time)"
   ]
  },
  {
   "cell_type": "code",
   "execution_count": 6,
   "id": "c4c45a69",
   "metadata": {
    "ExecuteTime": {
     "end_time": "2022-11-12T11:41:40.404172Z",
     "start_time": "2022-11-12T11:41:39.629475Z"
    }
   },
   "outputs": [],
   "source": [
    "# Engineering new feataures from the start_time column\n",
    "df['start_month'] = df.start_time.dt.month\n",
    "df['start_day'] = df.start_time.dt.weekday \n",
    "df['start_hour'] = df.start_time.dt.hour\n",
    "\n",
    "# extract the age of members from their birth year\n",
    "df[\"member_age\"]=df[\"member_birth_year\"].apply(lambda x: x if str(x)==\"nan\" else 2019-x)\n",
    "\n",
    "# convert duration in seconds to minutes\n",
    "df['duration_minutes'] = df['duration_sec'].apply(lambda x: x/60)"
   ]
  },
  {
   "cell_type": "code",
   "execution_count": 7,
   "id": "cfcceeb9",
   "metadata": {
    "ExecuteTime": {
     "end_time": "2022-11-12T11:41:56.953719Z",
     "start_time": "2022-11-12T11:41:56.651318Z"
    }
   },
   "outputs": [],
   "source": [
    "# Replace the numbers in start_day with abbreviated weekdays name\n",
    "df[\"start_day\"]=df[\"start_day\"].replace({0:\"Mon\", 1:\"Tue\", 2:\"Wed\", 3:\"Thur\", 4:\"Fri\", 5:\"Sat\", 6:\"Sun\"})\n",
    "\n",
    "# convert start_day, start_hour into ordered categorical types\n",
    "ordinal_var_dict = {\"start_day\":[\"Mon\",\"Tue\",\"Wed\",\"Thur\",\"Fri\",\"Sat\",\"Sun\"],\n",
    "                    \"start_hour\":list(range(24))}\n",
    "for var in ordinal_var_dict:\n",
    "    ordered_var = pd.api.types.CategoricalDtype(ordered = True,\n",
    "                                                categories = ordinal_var_dict[var])\n",
    "    df[var] = df[var].astype(ordered_var)"
   ]
  },
  {
   "cell_type": "code",
   "execution_count": 8,
   "id": "51fa1d82",
   "metadata": {
    "ExecuteTime": {
     "end_time": "2022-11-12T11:42:11.329595Z",
     "start_time": "2022-11-12T11:42:11.201597Z"
    }
   },
   "outputs": [
    {
     "data": {
      "text/html": [
       "<div>\n",
       "<style scoped>\n",
       "    .dataframe tbody tr th:only-of-type {\n",
       "        vertical-align: middle;\n",
       "    }\n",
       "\n",
       "    .dataframe tbody tr th {\n",
       "        vertical-align: top;\n",
       "    }\n",
       "\n",
       "    .dataframe thead th {\n",
       "        text-align: right;\n",
       "    }\n",
       "</style>\n",
       "<table border=\"1\" class=\"dataframe\">\n",
       "  <thead>\n",
       "    <tr style=\"text-align: right;\">\n",
       "      <th></th>\n",
       "      <th>duration_sec</th>\n",
       "      <th>start_time</th>\n",
       "      <th>end_time</th>\n",
       "      <th>start_station_id</th>\n",
       "      <th>start_station_name</th>\n",
       "      <th>start_station_latitude</th>\n",
       "      <th>start_station_longitude</th>\n",
       "      <th>end_station_id</th>\n",
       "      <th>end_station_name</th>\n",
       "      <th>end_station_latitude</th>\n",
       "      <th>...</th>\n",
       "      <th>bike_id</th>\n",
       "      <th>user_type</th>\n",
       "      <th>member_birth_year</th>\n",
       "      <th>member_gender</th>\n",
       "      <th>bike_share_for_all_trip</th>\n",
       "      <th>start_month</th>\n",
       "      <th>start_day</th>\n",
       "      <th>start_hour</th>\n",
       "      <th>member_age</th>\n",
       "      <th>duration_minutes</th>\n",
       "    </tr>\n",
       "  </thead>\n",
       "  <tbody>\n",
       "    <tr>\n",
       "      <th>0</th>\n",
       "      <td>52185</td>\n",
       "      <td>2019-02-28 17:32:10.145</td>\n",
       "      <td>2019-03-01 08:01:55.975</td>\n",
       "      <td>21.0</td>\n",
       "      <td>Montgomery St BART Station (Market St at 2nd St)</td>\n",
       "      <td>37.789625</td>\n",
       "      <td>-122.400811</td>\n",
       "      <td>13.0</td>\n",
       "      <td>Commercial St at Montgomery St</td>\n",
       "      <td>37.794231</td>\n",
       "      <td>...</td>\n",
       "      <td>4902</td>\n",
       "      <td>Customer</td>\n",
       "      <td>1984.0</td>\n",
       "      <td>Male</td>\n",
       "      <td>No</td>\n",
       "      <td>2</td>\n",
       "      <td>Thur</td>\n",
       "      <td>17</td>\n",
       "      <td>35.0</td>\n",
       "      <td>869.750000</td>\n",
       "    </tr>\n",
       "    <tr>\n",
       "      <th>1</th>\n",
       "      <td>42521</td>\n",
       "      <td>2019-02-28 18:53:21.789</td>\n",
       "      <td>2019-03-01 06:42:03.056</td>\n",
       "      <td>23.0</td>\n",
       "      <td>The Embarcadero at Steuart St</td>\n",
       "      <td>37.791464</td>\n",
       "      <td>-122.391034</td>\n",
       "      <td>81.0</td>\n",
       "      <td>Berry St at 4th St</td>\n",
       "      <td>37.775880</td>\n",
       "      <td>...</td>\n",
       "      <td>2535</td>\n",
       "      <td>Customer</td>\n",
       "      <td>NaN</td>\n",
       "      <td>NaN</td>\n",
       "      <td>No</td>\n",
       "      <td>2</td>\n",
       "      <td>Thur</td>\n",
       "      <td>18</td>\n",
       "      <td>NaN</td>\n",
       "      <td>708.683333</td>\n",
       "    </tr>\n",
       "    <tr>\n",
       "      <th>2</th>\n",
       "      <td>61854</td>\n",
       "      <td>2019-02-28 12:13:13.218</td>\n",
       "      <td>2019-03-01 05:24:08.146</td>\n",
       "      <td>86.0</td>\n",
       "      <td>Market St at Dolores St</td>\n",
       "      <td>37.769305</td>\n",
       "      <td>-122.426826</td>\n",
       "      <td>3.0</td>\n",
       "      <td>Powell St BART Station (Market St at 4th St)</td>\n",
       "      <td>37.786375</td>\n",
       "      <td>...</td>\n",
       "      <td>5905</td>\n",
       "      <td>Customer</td>\n",
       "      <td>1972.0</td>\n",
       "      <td>Male</td>\n",
       "      <td>No</td>\n",
       "      <td>2</td>\n",
       "      <td>Thur</td>\n",
       "      <td>12</td>\n",
       "      <td>47.0</td>\n",
       "      <td>1030.900000</td>\n",
       "    </tr>\n",
       "    <tr>\n",
       "      <th>3</th>\n",
       "      <td>36490</td>\n",
       "      <td>2019-02-28 17:54:26.010</td>\n",
       "      <td>2019-03-01 04:02:36.842</td>\n",
       "      <td>375.0</td>\n",
       "      <td>Grove St at Masonic Ave</td>\n",
       "      <td>37.774836</td>\n",
       "      <td>-122.446546</td>\n",
       "      <td>70.0</td>\n",
       "      <td>Central Ave at Fell St</td>\n",
       "      <td>37.773311</td>\n",
       "      <td>...</td>\n",
       "      <td>6638</td>\n",
       "      <td>Subscriber</td>\n",
       "      <td>1989.0</td>\n",
       "      <td>Other</td>\n",
       "      <td>No</td>\n",
       "      <td>2</td>\n",
       "      <td>Thur</td>\n",
       "      <td>17</td>\n",
       "      <td>30.0</td>\n",
       "      <td>608.166667</td>\n",
       "    </tr>\n",
       "    <tr>\n",
       "      <th>4</th>\n",
       "      <td>1585</td>\n",
       "      <td>2019-02-28 23:54:18.549</td>\n",
       "      <td>2019-03-01 00:20:44.074</td>\n",
       "      <td>7.0</td>\n",
       "      <td>Frank H Ogawa Plaza</td>\n",
       "      <td>37.804562</td>\n",
       "      <td>-122.271738</td>\n",
       "      <td>222.0</td>\n",
       "      <td>10th Ave at E 15th St</td>\n",
       "      <td>37.792714</td>\n",
       "      <td>...</td>\n",
       "      <td>4898</td>\n",
       "      <td>Subscriber</td>\n",
       "      <td>1974.0</td>\n",
       "      <td>Male</td>\n",
       "      <td>Yes</td>\n",
       "      <td>2</td>\n",
       "      <td>Thur</td>\n",
       "      <td>23</td>\n",
       "      <td>45.0</td>\n",
       "      <td>26.416667</td>\n",
       "    </tr>\n",
       "  </tbody>\n",
       "</table>\n",
       "<p>5 rows × 21 columns</p>\n",
       "</div>"
      ],
      "text/plain": [
       "   duration_sec              start_time                end_time  \\\n",
       "0         52185 2019-02-28 17:32:10.145 2019-03-01 08:01:55.975   \n",
       "1         42521 2019-02-28 18:53:21.789 2019-03-01 06:42:03.056   \n",
       "2         61854 2019-02-28 12:13:13.218 2019-03-01 05:24:08.146   \n",
       "3         36490 2019-02-28 17:54:26.010 2019-03-01 04:02:36.842   \n",
       "4          1585 2019-02-28 23:54:18.549 2019-03-01 00:20:44.074   \n",
       "\n",
       "   start_station_id                                start_station_name  \\\n",
       "0              21.0  Montgomery St BART Station (Market St at 2nd St)   \n",
       "1              23.0                     The Embarcadero at Steuart St   \n",
       "2              86.0                           Market St at Dolores St   \n",
       "3             375.0                           Grove St at Masonic Ave   \n",
       "4               7.0                               Frank H Ogawa Plaza   \n",
       "\n",
       "   start_station_latitude  start_station_longitude  end_station_id  \\\n",
       "0               37.789625              -122.400811            13.0   \n",
       "1               37.791464              -122.391034            81.0   \n",
       "2               37.769305              -122.426826             3.0   \n",
       "3               37.774836              -122.446546            70.0   \n",
       "4               37.804562              -122.271738           222.0   \n",
       "\n",
       "                               end_station_name  end_station_latitude  ...  \\\n",
       "0                Commercial St at Montgomery St             37.794231  ...   \n",
       "1                            Berry St at 4th St             37.775880  ...   \n",
       "2  Powell St BART Station (Market St at 4th St)             37.786375  ...   \n",
       "3                        Central Ave at Fell St             37.773311  ...   \n",
       "4                         10th Ave at E 15th St             37.792714  ...   \n",
       "\n",
       "   bike_id   user_type member_birth_year  member_gender  \\\n",
       "0     4902    Customer            1984.0           Male   \n",
       "1     2535    Customer               NaN            NaN   \n",
       "2     5905    Customer            1972.0           Male   \n",
       "3     6638  Subscriber            1989.0          Other   \n",
       "4     4898  Subscriber            1974.0           Male   \n",
       "\n",
       "  bike_share_for_all_trip start_month  start_day start_hour member_age  \\\n",
       "0                      No           2       Thur         17       35.0   \n",
       "1                      No           2       Thur         18        NaN   \n",
       "2                      No           2       Thur         12       47.0   \n",
       "3                      No           2       Thur         17       30.0   \n",
       "4                     Yes           2       Thur         23       45.0   \n",
       "\n",
       "   duration_minutes  \n",
       "0        869.750000  \n",
       "1        708.683333  \n",
       "2       1030.900000  \n",
       "3        608.166667  \n",
       "4         26.416667  \n",
       "\n",
       "[5 rows x 21 columns]"
      ]
     },
     "execution_count": 8,
     "metadata": {},
     "output_type": "execute_result"
    }
   ],
   "source": [
    "df.head()"
   ]
  },
  {
   "cell_type": "code",
   "execution_count": 9,
   "id": "f6c7b301",
   "metadata": {
    "ExecuteTime": {
     "end_time": "2022-11-12T11:42:28.667515Z",
     "start_time": "2022-11-12T11:42:28.539519Z"
    }
   },
   "outputs": [
    {
     "data": {
      "text/plain": [
       "float64           9\n",
       "object            5\n",
       "int64             3\n",
       "datetime64[ns]    2\n",
       "category          1\n",
       "category          1\n",
       "dtype: int64"
      ]
     },
     "execution_count": 9,
     "metadata": {},
     "output_type": "execute_result"
    }
   ],
   "source": [
    "df.dtypes.value_counts()"
   ]
  },
  {
   "cell_type": "markdown",
   "id": "3d8b4f34",
   "metadata": {
    "ExecuteTime": {
     "end_time": "2022-11-12T11:42:56.301418Z",
     "start_time": "2022-11-12T11:42:56.269414Z"
    }
   },
   "source": [
    "### What is the structure of your dataset?\n",
    "\n",
    "> There are 183,412 diamonds in the dataset with 16 features (duration_sec, start_time, end_time, start_station_id, start_station_name, etc.) The variables type include numeric, object, and time. However, two categorical variables were extracted from the datetime variable.  \n",
    "\n",
    "### What is/are the main feature(s) of interest in your dataset?\n",
    "\n",
    "> My main features of interest would be centered around those variables that would enable me to predict how long it would take to complete an average trip. \n",
    "\n",
    "### What features in the dataset do you think will help support your investigation into your feature(s) of interest?\n",
    "\n",
    "> I expect that user_type, member's age and gender, and the trip start time to have strong effect on trip duration. "
   ]
  },
  {
   "cell_type": "markdown",
   "id": "3fceb49c",
   "metadata": {},
   "source": [
    "## Univariate Exploration "
   ]
  },
  {
   "cell_type": "code",
   "execution_count": 11,
   "id": "4097321d",
   "metadata": {
    "ExecuteTime": {
     "end_time": "2022-11-12T11:45:30.028739Z",
     "start_time": "2022-11-12T11:45:30.004725Z"
    }
   },
   "outputs": [],
   "source": [
    "def axes_title(title, x_label, y_label, center=False):\n",
    "    \"\"\"This function is to add title and labels to plots.\n",
    "       Where the parameters are all of string type\"\"\"\n",
    "    if center:\n",
    "        tit = plt.suptitle(title)\n",
    "    else:\n",
    "        tit = plt.title(title)\n",
    "    return (tit,\n",
    "    plt.xlabel(x_label),\n",
    "    plt.ylabel(y_label))\n",
    "\n",
    "base_color=sb.color_palette()[1]"
   ]
  },
  {
   "cell_type": "markdown",
   "id": "9d809c73",
   "metadata": {},
   "source": [
    "###  What is the Average Trip Duration?\n",
    "> I'll start by looking at the distribution of the main variable of interest: Trip Duration."
   ]
  },
  {
   "cell_type": "code",
   "execution_count": 13,
   "id": "0665ca08",
   "metadata": {
    "ExecuteTime": {
     "end_time": "2022-11-12T11:47:17.060060Z",
     "start_time": "2022-11-12T11:47:15.950898Z"
    }
   },
   "outputs": [
    {
     "data": {
      "image/png": "[encoded data removed]",
      "text/plain": [
       "<Figure size 720x576 with 1 Axes>"
      ]
     },
     "metadata": {
      "needs_background": "light"
     },
     "output_type": "display_data"
    }
   ],
   "source": [
    "binsize = 5\n",
    "bins = np.arange(0, df['duration_minutes'].max()+binsize, binsize)\n",
    "\n",
    "plt.figure(figsize=[10, 8])\n",
    "plt.hist(data = df, x = 'duration_minutes', bins = bins)\n",
    "axes_title(title=\"Distribution of Trip Durations\",x_label=\"Duration (min)\", y_label=\"Number of Trips\")\n",
    "plt.show()"
   ]
  },
  {
   "cell_type": "code",
   "execution_count": 14,
   "id": "64ffe0cf",
   "metadata": {
    "ExecuteTime": {
     "end_time": "2022-11-12T11:47:49.544361Z",
     "start_time": "2022-11-12T11:47:48.803021Z"
    }
   },
   "outputs": [
    {
     "data": {
      "image/png": "[encoded data removed]",
      "text/plain": [
       "<Figure size 720x576 with 1 Axes>"
      ]
     },
     "metadata": {
      "needs_background": "light"
     },
     "output_type": "display_data"
    }
   ],
   "source": [
    "# there's a long tail in the distribution, so let's put it on a log scale instead\n",
    "# using logarthmic scale transformation on a histogram\n",
    "log_binsize = 0.1\n",
    "log_bins = 10 ** np.arange(0.0, np.log10(df['duration_minutes'].max()) + log_binsize, log_binsize)\n",
    "\n",
    "plt.figure(figsize=[10, 8])\n",
    "plt.hist(data = df, x = 'duration_minutes', bins = log_bins)\n",
    "axes_title(title=\"Distribution of Trip Durations in Minute\",x_label=\"Duration (min)\", y_label=\"Number of Trips\")\n",
    "plt.xscale('log')\n",
    "tick_locs = [1, 2, 5, 10, 20, 50, 100, 200, 500, 1000]\n",
    "plt.xticks(tick_locs, tick_locs)\n",
    "plt.show()"
   ]
  },
  {
   "cell_type": "markdown",
   "id": "2a1b4976",
   "metadata": {},
   "source": [
    "> Trip duration has a long-tailed distribution, with most trip taking an average of 4 to 20 minute to complete. When plotted on a log-scale, the trip duration looks unimodal and right skewed peaking between 4 and 20. Very few trips lasted below 3 minute and and above 50 minute"
   ]
  },
  {
   "cell_type": "markdown",
   "id": "cf46a777",
   "metadata": {},
   "source": [
    "> Next up, the first predictor variable of interest: Members' age."
   ]
  },
  {
   "cell_type": "markdown",
   "id": "67da839b",
   "metadata": {},
   "source": [
    "### Distribution of users' Age"
   ]
  },
  {
   "cell_type": "code",
   "execution_count": 15,
   "id": "21967357",
   "metadata": {
    "ExecuteTime": {
     "end_time": "2022-11-12T11:50:50.359296Z",
     "start_time": "2022-11-12T11:50:49.594367Z"
    }
   },
   "outputs": [
    {
     "data": {
      "image/png": "[encoded data removed]",
      "text/plain": [
       "<Figure size 720x576 with 1 Axes>"
      ]
     },
     "metadata": {
      "needs_background": "light"
     },
     "output_type": "display_data"
    }
   ],
   "source": [
    "# histogram plot of the age distribtion of users on a standard scale plot \n",
    "binsize = 2\n",
    "bins = np.arange(0, df['member_age'].max()+binsize, binsize)\n",
    "\n",
    "plt.figure(figsize=[10, 8])\n",
    "plt.hist(data = df.dropna(), x = 'member_age', bins = bins)\n",
    "axes_title(title=\"Distribution of Users\\' Age\",x_label=\"User\\'s Age\", y_label=\"Number of Users\")\n",
    "plt.show()"
   ]
  },
  {
   "cell_type": "code",
   "execution_count": 16,
   "id": "7f2a32d9",
   "metadata": {
    "ExecuteTime": {
     "end_time": "2022-11-12T11:51:24.012743Z",
     "start_time": "2022-11-12T11:51:23.411182Z"
    }
   },
   "outputs": [
    {
     "data": {
      "image/png": "[encoded data removed]",
      "text/plain": [
       "<Figure size 720x576 with 1 Axes>"
      ]
     },
     "metadata": {
      "needs_background": "light"
     },
     "output_type": "display_data"
    }
   ],
   "source": [
    "# histogram plot of the age distribtion of users on a log scale\n",
    "log_binsize = 0.05\n",
    "log_bins = 10 ** np.arange(0.0, np.log10(df['member_age'].max()) + log_binsize, log_binsize)\n",
    "\n",
    "plt.figure(figsize=[10, 8])\n",
    "plt.hist(data = df, x = 'member_age', bins = log_bins)\n",
    "axes_title(title=\"Age Distribution of Users\",x_label=\"Age\", y_label=\"Number of Users\")\n",
    "plt.xscale('log')\n",
    "tick_locs = [15, 20, 25, 30, 40, 50, 60, 100,150]\n",
    "plt.xticks(tick_locs, tick_locs)\n",
    "plt.xlim([15, df.member_age.max()])\n",
    "plt.show()"
   ]
  },
  {
   "cell_type": "markdown",
   "id": "8a881c2c",
   "metadata": {},
   "source": [
    "> Most users are between the age 25 and 40. The distribution is slightly skewed to the right and there aren't a lot of the users below age 25 and above age 40"
   ]
  },
  {
   "cell_type": "markdown",
   "id": "98d73b75",
   "metadata": {},
   "source": [
    "### Daily Trip Distribution "
   ]
  },
  {
   "cell_type": "markdown",
   "id": "6535edb9",
   "metadata": {},
   "source": [
    "I will now look into the trip start_hour and start_weekday"
   ]
  },
  {
   "cell_type": "code",
   "execution_count": 17,
   "id": "879af0e2",
   "metadata": {
    "ExecuteTime": {
     "end_time": "2022-11-12T11:54:58.021315Z",
     "start_time": "2022-11-12T11:54:55.047096Z"
    }
   },
   "outputs": [
    {
     "data": {
      "image/png": "[encoded data removed]",
      "text/plain": [
       "<Figure size 720x1800 with 7 Axes>"
      ]
     },
     "metadata": {
      "needs_background": "light"
     },
     "output_type": "display_data"
    }
   ],
   "source": [
    "fig, ax = plt.subplots(nrows=7, figsize=[10,25])\n",
    "days = [\"Mon\",\"Tue\",\"Wed\",\"Thur\",\"Fri\",\"Sat\",\"Sun\"]\n",
    "for i,j in enumerate(days):\n",
    "    sb.countplot(data=df[df[\"start_day\"]==j], x=\"start_hour\", ax=ax[i], color=base_color)"
   ]
  },
  {
   "cell_type": "markdown",
   "id": "b8f9c55e",
   "metadata": {},
   "source": [
    "> The distributions of the starting time of trips from Mondays to Fridays are essentially identical with one another and different from those of Saturdays and Sundays. the distribution from Monday to Friday looks bimodal in shape, with one peak between 7:00 and 9:00 hours, and the second peak between 16:00 and 18:00 hours, while those of Saturday and Sunday are unimodal but the distribution is skewed to the left. The distinctions in the shapes of the distribution is expected as Mondays through to Fridays are working days, and usually known to have rush hours in the morning and evening as depicted in the plots. "
   ]
  },
  {
   "cell_type": "markdown",
   "id": "2679baad",
   "metadata": {},
   "source": [
    "### Distribution of User Type"
   ]
  },
  {
   "cell_type": "markdown",
   "id": "9f41dc16",
   "metadata": {},
   "source": [
    "Next I'll look at the distribution of tripe by user type"
   ]
  },
  {
   "cell_type": "code",
   "execution_count": 18,
   "id": "846cf654",
   "metadata": {
    "ExecuteTime": {
     "end_time": "2022-11-12T11:56:24.994973Z",
     "start_time": "2022-11-12T11:56:24.517337Z"
    }
   },
   "outputs": [
    {
     "data": {
      "image/png": "[encoded data removed]",
      "text/plain": [
       "<Figure size 576x432 with 1 Axes>"
      ]
     },
     "metadata": {},
     "output_type": "display_data"
    }
   ],
   "source": [
    "# plot a pie chart\n",
    "user_category = df['user_type'].value_counts()\n",
    "plt.figure(figsize=[8, 6])\n",
    "plt.pie(user_category, explode =  (0, 0.1), labels = user_category.index, shadow = True, startangle = 90,\n",
    "        counterclock = False, autopct='%1.1f%%');\n",
    "plt.axis('square')\n",
    "plt.show()"
   ]
  },
  {
   "cell_type": "markdown",
   "id": "7aed70f1",
   "metadata": {},
   "source": [
    "Most of the users are actually subscribers rather than customers as shown from the plot above."
   ]
  },
  {
   "cell_type": "markdown",
   "id": "3823b1d4",
   "metadata": {},
   "source": [
    "### Gender Distribution"
   ]
  },
  {
   "cell_type": "code",
   "execution_count": 19,
   "id": "e3f2d2c4",
   "metadata": {
    "ExecuteTime": {
     "end_time": "2022-11-12T11:58:19.754255Z",
     "start_time": "2022-11-12T11:58:19.391146Z"
    }
   },
   "outputs": [
    {
     "data": {
      "image/png": "[encoded data removed]",
      "text/plain": [
       "<Figure size 432x288 with 1 Axes>"
      ]
     },
     "metadata": {
      "needs_background": "light"
     },
     "output_type": "display_data"
    }
   ],
   "source": [
    "# Plot of gender distribution of users\n",
    "order = df[\"member_gender\"].value_counts().index\n",
    "sb.countplot(data = df, x = 'member_gender', color=base_color, order=order)\n",
    "axes_title(title=\"Users Gender Distribution\",x_label=\"Gender\", y_label=\"Number of Users\")\n",
    "plt.show();"
   ]
  },
  {
   "cell_type": "markdown",
   "id": "06156b2a",
   "metadata": {},
   "source": [
    "Males use the bike service overwhelmingly more than females and other genders. Over 120,000 males used the service in the month of February 2019."
   ]
  },
  {
   "cell_type": "markdown",
   "id": "d25eacd8",
   "metadata": {},
   "source": [
    "### Discuss the distribution(s) of your variable(s) of interest. Were there any unusual points? Did you need to perform any transformations?\n",
    "\n",
    "> The bike duration variable took on a large range of values. I had to perform a log transform. The data looked unimodal under the log transformation with peak between 5 and 20 minutes.\n",
    "\n",
    "### Of the features you investigated, were there any unusual distributions? Did you perform any operations on the data to tidy, adjust, or change the form of the data? If so, why did you do this?\n",
    "\n",
    "> Members' age were extracted from their birth year by subtracting their birth year from the current year in the data being 2019, so this gives a distribution for age with richer insight regarding trip duration dependency. "
   ]
  },
  {
   "cell_type": "code",
   "execution_count": null,
   "id": "dd90db91",
   "metadata": {},
   "outputs": [],
   "source": []
  },
  {
   "cell_type": "code",
   "execution_count": null,
   "id": "6d982c88",
   "metadata": {},
   "outputs": [],
   "source": []
  },
  {
   "cell_type": "code",
   "execution_count": null,
   "id": "412ef9eb",
   "metadata": {},
   "outputs": [],
   "source": []
  }
 ],
 "metadata": {
  "kernelspec": {
   "display_name": "Python 3 (ipykernel)",
   "language": "python",
   "name": "python3"
  },
  "language_info": {
   "codemirror_mode": {
    "name": "ipython",
    "version": 3
   },
   "file_extension": ".py",
   "mimetype": "text/x-python",
   "name": "python",
   "nbconvert_exporter": "python",
   "pygments_lexer": "ipython3",
   "version": "3.7.13"
  }
 },
 "nbformat": 4,
 "nbformat_minor": 5
}
