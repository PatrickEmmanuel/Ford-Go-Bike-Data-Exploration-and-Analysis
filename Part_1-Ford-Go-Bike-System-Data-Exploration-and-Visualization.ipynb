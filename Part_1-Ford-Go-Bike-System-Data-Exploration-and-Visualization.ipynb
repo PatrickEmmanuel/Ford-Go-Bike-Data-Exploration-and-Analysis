{
 "cells": [
  {
   "cell_type": "markdown",
   "id": "40b45a0c",
   "metadata": {},
   "source": [
    "# Part I - Ford Go-Bike System Data Exploration And Visualization\n",
    "\n",
    "## Introduction\n",
    "> This analysis explores a dataset containing information regarding bike usage in Francisco Bay Ford GoBike sharing system.  \n",
    "\n",
    "\n",
    "## Preliminary Wrangling\n"
   ]
  },
  {
   "cell_type": "code",
   "execution_count": 1,
   "id": "a49fa214",
   "metadata": {
    "ExecuteTime": {
     "end_time": "2022-11-12T10:11:09.113113Z",
     "start_time": "2022-11-12T10:10:29.861697Z"
    }
   },
   "outputs": [],
   "source": [
    "# import all packages and set plots to be embedded inline\n",
    "import numpy as np\n",
    "import pandas as pd\n",
    "import matplotlib.pyplot as plt\n",
    "import seaborn as sb\n",
    "import warnings\n",
    "warnings.filterwarnings(\"ignore\")\n",
    "\n",
    "%matplotlib inline"
   ]
  },
  {
   "cell_type": "code",
   "execution_count": null,
   "id": "a62235c3",
   "metadata": {},
   "outputs": [],
   "source": []
  }
 ],
 "metadata": {
  "kernelspec": {
   "display_name": "Python 3 (ipykernel)",
   "language": "python",
   "name": "python3"
  },
  "language_info": {
   "codemirror_mode": {
    "name": "ipython",
    "version": 3
   },
   "file_extension": ".py",
   "mimetype": "text/x-python",
   "name": "python",
   "nbconvert_exporter": "python",
   "pygments_lexer": "ipython3",
   "version": "3.7.13"
  }
 },
 "nbformat": 4,
 "nbformat_minor": 5
}
